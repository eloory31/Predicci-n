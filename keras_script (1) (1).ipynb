{
  "nbformat": 4,
  "nbformat_minor": 0,
  "metadata": {
    "colab": {
      "name": "keras_script.ipynb",
      "provenance": [],
      "collapsed_sections": []
    },
    "kernelspec": {
      "display_name": "Python 3",
      "name": "python3"
    },
    "accelerator": "GPU"
  },
  "cells": [
    {
      "cell_type": "markdown",
      "metadata": {
        "id": "AKP2ULuQ8-gH"
      },
      "source": [
        "**Se crea la conexion con el Drive para optener la base de datos**"
      ]
    },
    {
      "cell_type": "code",
      "metadata": {
        "colab": {
          "base_uri": "https://localhost:8080/"
        },
        "id": "WH2VU9PQ1RuJ",
        "outputId": "2cb207de-7d4b-4835-bc9a-adbe1fdffbf2"
      },
      "source": [
        "from google.colab import drive\n",
        "drive.mount('/content/drive')"
      ],
      "execution_count": 1,
      "outputs": [
        {
          "output_type": "stream",
          "name": "stdout",
          "text": [
            "Mounted at /content/drive\n"
          ]
        }
      ]
    },
    {
      "cell_type": "code",
      "source": [
        "import pandas as pd\n",
        "import shutil\n",
        "import os"
      ],
      "metadata": {
        "id": "8DTH4JfLFP4O"
      },
      "execution_count": 2,
      "outputs": []
    },
    {
      "cell_type": "code",
      "source": [
        "%%bash\n",
        "rm -rf dataset\n",
        "mkdir -p dataset/train/normal\n",
        "mkdir -p dataset/train/covid\n",
        "mkdir -p dataset/validate/normal\n",
        "mkdir -p dataset/validate/covid"
      ],
      "metadata": {
        "id": "PLzTXeWEGCJE"
      },
      "execution_count": 38,
      "outputs": []
    },
    {
      "cell_type": "code",
      "metadata": {
        "id": "awEid7P_8wTx"
      },
      "source": [
        "import os\n",
        "train_dir = os.path.join('./dataset/train')#os.path.join('COVID-19_Dataset/Train_C_RX')\n",
        "validation_dir = os.path.join('./dataset/validate')#os.path.join('COVID-19_Dataset/val_CRX')"
      ],
      "execution_count": 39,
      "outputs": []
    },
    {
      "cell_type": "code",
      "metadata": {
        "id": "GOpTPSgH2s0F",
        "colab": {
          "base_uri": "https://localhost:8080/"
        },
        "outputId": "687563b9-d8a2-4b09-9e7c-4ca53c735cea"
      },
      "source": [
        "dataset_path = './dataset'\n",
        "dataset_path_drive = 'drive/MyDrive/dataset_2/' \n",
        "covid_dataset_path = dataset_path_drive\n",
        "csvPath = os.path.sep.join([covid_dataset_path, \"COVID.metadata.csv\"])\n",
        "df = pd.read_csv(csvPath, usecols=[\"NAME\",\"FORMAT\"], delimiter=';')\n",
        "print(df)\n",
        "\n",
        "# train/covid\n",
        "for (i, row) in df.iloc[:600].iterrows():\n",
        "\n",
        "  imagePath = os.path.sep.join([covid_dataset_path, \"covid\", '{}.{}'.format(row[\"NAME\"], str(row[\"FORMAT\"]).lower())])\n",
        "  if not os.path.exists(imagePath):\n",
        "    continue\n",
        "  filename = '{}.{}'.format(row[\"NAME\"], str(row[\"FORMAT\"]).lower())\n",
        "  outputPath = os.path.sep.join([f\"{dataset_path}/train/covid\"])\n",
        "\n",
        "  # copy the image\n",
        "  shutil.copy2(imagePath, outputPath) \n",
        "\n",
        "# validate/covid\n",
        "for (i, row) in df.iloc[600:630].iterrows():\n",
        "\n",
        "  imagePath = os.path.sep.join([covid_dataset_path, \"covid\", '{}.{}'.format(row[\"NAME\"], str(row[\"FORMAT\"]).lower())])\n",
        "  if not os.path.exists(imagePath):\n",
        "    continue\n",
        "  filename = '{}.{}'.format(row[\"NAME\"], str(row[\"FORMAT\"]).lower())\n",
        "  outputPath = os.path.sep.join([f\"{dataset_path}/validate/covid\"])\n",
        "\n",
        "  # copy the image\n",
        "  shutil.copy2(imagePath, outputPath) "
      ],
      "execution_count": 76,
      "outputs": [
        {
          "output_type": "stream",
          "name": "stdout",
          "text": [
            "            NAME FORMAT\n",
            "0        COVID-1    PNG\n",
            "1        COVID-2    PNG\n",
            "2        COVID-3    PNG\n",
            "3        COVID-4    PNG\n",
            "4        COVID-5    PNG\n",
            "...          ...    ...\n",
            "3611  COVID-3612    PNG\n",
            "3612  COVID-3613    PNG\n",
            "3613  COVID-3614    PNG\n",
            "3614  COVID-3615    PNG\n",
            "3615  COVID-3616    PNG\n",
            "\n",
            "[3616 rows x 2 columns]\n"
          ]
        }
      ]
    },
    {
      "cell_type": "code",
      "source": [
        "normal_dataset_path = dataset_path_drive\n",
        "csvPath = os.path.sep.join([normal_dataset_path, \"Normal.metadata.csv\"])\n",
        "df = pd.read_csv(csvPath, usecols=[\"FILE_NAME\",\"FORMAT\"], delimiter=';')\n",
        "print(df)\n",
        "\n",
        "# train/normal\n",
        "for (i, row) in df.iloc[:600].iterrows():\n",
        "\n",
        "  imagePath = os.path.sep.join([normal_dataset_path, \"normal\", '{}.{}'.format(row[\"FILE_NAME\"], str(row[\"FORMAT\"]).lower()).capitalize()])\n",
        "  if not os.path.exists(imagePath):\n",
        "    continue\n",
        "  filename = '{}.{}'.format(row[\"FILE_NAME\"], str(row[\"FORMAT\"]).lower()).capitalize()\n",
        "  outputPath = os.path.sep.join([f\"{dataset_path}/train/normal\"])\n",
        "\n",
        "  # copy the image\n",
        "  shutil.copy2(imagePath, outputPath) \n",
        "\n",
        "# validate/normal\n",
        "for (i, row) in df.iloc[600:640].iterrows():\n",
        "\n",
        "  imagePath = os.path.sep.join([normal_dataset_path, \"normal\", '{}.{}'.format(row[\"FILE_NAME\"], str(row[\"FORMAT\"]).lower()).capitalize()])\n",
        "  if not os.path.exists(imagePath):\n",
        "    continue\n",
        "  filename = '{}.{}'.format(row[\"FILE_NAME\"], str(row[\"FORMAT\"]).lower()).capitalize()\n",
        "  outputPath = os.path.sep.join([f\"{dataset_path}/validate/normal\"])\n",
        "\n",
        "  # copy the image\n",
        "  shutil.copy2(imagePath, outputPath) "
      ],
      "metadata": {
        "colab": {
          "base_uri": "https://localhost:8080/"
        },
        "id": "X2Sv2-7Yf8XD",
        "outputId": "a29ccfe1-7e5e-48e3-8134-b615623ee7aa"
      },
      "execution_count": 77,
      "outputs": [
        {
          "output_type": "stream",
          "name": "stdout",
          "text": [
            "          FILE_NAME FORMAT\n",
            "0          NORMAL-1    PNG\n",
            "1          NORMAL-2    PNG\n",
            "2          NORMAL-3    PNG\n",
            "3          NORMAL-4    PNG\n",
            "4          NORMAL-5    PNG\n",
            "...             ...    ...\n",
            "10187  NORMAL-10188    PNG\n",
            "10188  NORMAL-10189    PNG\n",
            "10189  NORMAL-10190    PNG\n",
            "10190  NORMAL-10191    PNG\n",
            "10191  NORMAL-10192    PNG\n",
            "\n",
            "[10192 rows x 2 columns]\n"
          ]
        }
      ]
    },
    {
      "cell_type": "code",
      "metadata": {
        "colab": {
          "base_uri": "https://localhost:8080/",
          "height": 35
        },
        "id": "-A1X60m2QEcA",
        "outputId": "3ff13cd7-dcd6-404b-d9b1-45f968046d6a"
      },
      "source": [
        "#Ruta de alguna imagen que pertenezca al conjunto de entrenamiento\n",
        "p='./dataset/train/covid/COVID-12.png'\n",
        "p"
      ],
      "execution_count": 78,
      "outputs": [
        {
          "output_type": "execute_result",
          "data": {
            "application/vnd.google.colaboratory.intrinsic+json": {
              "type": "string"
            },
            "text/plain": [
              "'./dataset/train/covid/COVID-12.png'"
            ]
          },
          "metadata": {},
          "execution_count": 78
        }
      ]
    },
    {
      "cell_type": "code",
      "metadata": {
        "colab": {
          "base_uri": "https://localhost:8080/"
        },
        "id": "PCOZQPldUD_2",
        "outputId": "0c8990c3-ad25-47b8-c823-707d689f4798"
      },
      "source": [
        "#Ruta de alguna imagen que pertenezca al conjunto de entrenamiento\n",
        "img_path = p\n",
        "\n",
        "# Preprocesamos la imagen en un tensor 4D\n",
        "from keras.preprocessing import image\n",
        "import numpy as np\n",
        "\n",
        "img = image.load_img(img_path, target_size=(224, 224))\n",
        "img_tensor = image.img_to_array(img)\n",
        "img_tensor = np.expand_dims(img_tensor, axis=0)\n",
        "\n",
        "#Recordatorio el modelo sera entrenado con imágenes\n",
        "#de entrada que se preprocesaron de la siguiente manera:\n",
        "img_tensor /= 255.\n",
        "\n",
        "# Su dimensión es de (1, 224, 224, 3)\n",
        "print(img_tensor.shape)"
      ],
      "execution_count": 79,
      "outputs": [
        {
          "output_type": "stream",
          "name": "stdout",
          "text": [
            "(1, 224, 224, 3)\n"
          ]
        }
      ]
    },
    {
      "cell_type": "code",
      "metadata": {
        "colab": {
          "base_uri": "https://localhost:8080/",
          "height": 269
        },
        "id": "XMNTATLAUabj",
        "outputId": "c7d0b945-6c27-4dbb-d654-52199be02e7e"
      },
      "source": [
        "import matplotlib.pyplot as plt\n",
        "\n",
        "plt.imshow(img_tensor[0])\n",
        "plt.show()"
      ],
      "execution_count": 80,
      "outputs": [
        {
          "output_type": "display_data",
          "data": {
            "image/png": "[encoded data removed]",
            "text/plain": [
              "<Figure size 432x288 with 1 Axes>"
            ]
          },
          "metadata": {
            "needs_background": "light"
          }
        }
      ]
    },
    {
      "cell_type": "markdown",
      "metadata": {
        "id": "XWs6HaLP_FCG"
      },
      "source": [
        "**Arquitectura del modelo, de red neuronal convolucional**\n"
      ]
    },
    {
      "cell_type": "code",
      "metadata": {
        "colab": {
          "base_uri": "https://localhost:8080/"
        },
        "id": "H4hkvxb594JT",
        "outputId": "48d4c9ef-bd5a-4a41-b47e-cacd8c95a783"
      },
      "source": [
        "from tensorflow.keras import layers\n",
        "from tensorflow.keras import models\n",
        "\n",
        "#layers.Conv2D -> Capa convolucional\n",
        "#layers.MaxPooling2D -> Capa max pooling\n",
        "model = models.Sequential()\n",
        "model.add(layers.Conv2D(320,kernel_size=(3,3),activation='relu',input_shape=(224,224,3)))#primera capa de redes convolucionales\n",
        "model.add(layers.Conv2D(228,(3,3),activation='relu'))\n",
        "model.add(layers.MaxPooling2D(pool_size=(2,2)))\n",
        "model.add(layers.Dropout(0.25)) #Regularizar el rendimiento de su CNN o mejora el desempeño de su CNN\n",
        "\n",
        "model.add(layers.Conv2D(128,(3,3),activation='relu'))#segunda\n",
        "model.add(layers.MaxPooling2D(pool_size=(2,2)))\n",
        "model.add(layers.Dropout(0.25))\n",
        "\n",
        "model.add(layers.Conv2D(128,(3,3),activation='relu'))#tercera\n",
        "model.add(layers.MaxPooling2D(pool_size=(2,2)))\n",
        "model.add(layers.Dropout(0.25))\n",
        "\n",
        "model.add(layers.Flatten())\n",
        "model.add(layers.Dense(364,activation='relu'))#primera capa de redes neuronales densamente conectadas\n",
        "model.add(layers.Dropout(0.5))\n",
        "\n",
        "model.add(layers.Dense(264,activation='relu'))#segunda\n",
        "model.add(layers.Dropout(0.5))\n",
        "\n",
        "model.add(layers.Dense(164,activation='relu'))#tercera\n",
        "model.add(layers.Dropout(0.5))\n",
        "\n",
        "model.add(layers.Dense(1,activation='sigmoid'))#capa de salida que da resultado si o\n",
        "\n",
        "model.summary()"
      ],
      "execution_count": 81,
      "outputs": [
        {
          "output_type": "stream",
          "name": "stdout",
          "text": [
            "Model: \"sequential_3\"\n",
            "_________________________________________________________________\n",
            " Layer (type)                Output Shape              Param #   \n",
            "=================================================================\n",
            " conv2d_12 (Conv2D)          (None, 222, 222, 320)     8960      \n",
            "                                                                 \n",
            " conv2d_13 (Conv2D)          (None, 220, 220, 228)     656868    \n",
            "                                                                 \n",
            " max_pooling2d_9 (MaxPooling  (None, 110, 110, 228)    0         \n",
            " 2D)                                                             \n",
            "                                                                 \n",
            " dropout_18 (Dropout)        (None, 110, 110, 228)     0         \n",
            "                                                                 \n",
            " conv2d_14 (Conv2D)          (None, 108, 108, 128)     262784    \n",
            "                                                                 \n",
            " max_pooling2d_10 (MaxPoolin  (None, 54, 54, 128)      0         \n",
            " g2D)                                                            \n",
            "                                                                 \n",
            " dropout_19 (Dropout)        (None, 54, 54, 128)       0         \n",
            "                                                                 \n",
            " conv2d_15 (Conv2D)          (None, 52, 52, 128)       147584    \n",
            "                                                                 \n",
            " max_pooling2d_11 (MaxPoolin  (None, 26, 26, 128)      0         \n",
            " g2D)                                                            \n",
            "                                                                 \n",
            " dropout_20 (Dropout)        (None, 26, 26, 128)       0         \n",
            "                                                                 \n",
            " flatten_3 (Flatten)         (None, 86528)             0         \n",
            "                                                                 \n",
            " dense_12 (Dense)            (None, 364)               31496556  \n",
            "                                                                 \n",
            " dropout_21 (Dropout)        (None, 364)               0         \n",
            "                                                                 \n",
            " dense_13 (Dense)            (None, 264)               96360     \n",
            "                                                                 \n",
            " dropout_22 (Dropout)        (None, 264)               0         \n",
            "                                                                 \n",
            " dense_14 (Dense)            (None, 164)               43460     \n",
            "                                                                 \n",
            " dropout_23 (Dropout)        (None, 164)               0         \n",
            "                                                                 \n",
            " dense_15 (Dense)            (None, 1)                 165       \n",
            "                                                                 \n",
            "=================================================================\n",
            "Total params: 32,712,737\n",
            "Trainable params: 32,712,737\n",
            "Non-trainable params: 0\n",
            "_________________________________________________________________\n"
          ]
        }
      ]
    },
    {
      "cell_type": "markdown",
      "metadata": {
        "id": "B6hV6flB_dQM"
      },
      "source": [
        "Compilamos"
      ]
    },
    {
      "cell_type": "code",
      "metadata": {
        "id": "QJnvWZge-8wV"
      },
      "source": [
        "from tensorflow.keras import optimizers\n",
        "model.compile(loss='binary_crossentropy',\n",
        "              optimizer='adam', #SGD\n",
        "              metrics=['acc'])"
      ],
      "execution_count": 82,
      "outputs": []
    },
    {
      "cell_type": "markdown",
      "metadata": {
        "id": "kdO8i3LG_u29"
      },
      "source": [
        "**Definicion de los generadores pre-procesamiento** \n",
        "\n",
        "Permite normalizar los valores de las imagenenes del dataset, transformando los pixeles que van de 0 a 255, y nos quedara un valor de 0 y 1 "
      ]
    },
    {
      "cell_type": "code",
      "metadata": {
        "colab": {
          "base_uri": "https://localhost:8080/"
        },
        "id": "7A_k9Ij0_q8p",
        "outputId": "a8f2492e-456c-466d-aabf-00c7a6e3e510"
      },
      "source": [
        "#Using ImageDataGenerator to read images from directories/leer imagenes de directorio\n",
        "from tensorflow.keras.preprocessing.image import ImageDataGenerator\n",
        "\n",
        "#Conjunto de entrenamiento\n",
        "train_datagen = ImageDataGenerator(rescale=1./255,  #Normalización\n",
        "                                   shear_range = 0.2,\n",
        "                                   zoom_range = 0.2, \n",
        "                                   horizontal_flip = True)\n",
        "#Conjunto de validación\n",
        "test_datagen = ImageDataGenerator(rescale=1./255)\n",
        "\n",
        "train_generator = train_datagen.flow_from_directory(\n",
        "        train_dir, # Target directory\n",
        "        target_size=(224, 224), # All images are resized from 240x320 to 72x96\n",
        "        batch_size= 32, \n",
        "        color_mode='rgb',\n",
        "        class_mode='binary',\n",
        "        shuffle=True)\n",
        "\n",
        "validation_generator = test_datagen.flow_from_directory(\n",
        "        validation_dir,\n",
        "        target_size=(224, 224),\n",
        "        batch_size=1,\n",
        "        color_mode='rgb',\n",
        "        class_mode='binary',\n",
        "        shuffle=False)"
      ],
      "execution_count": 83,
      "outputs": [
        {
          "output_type": "stream",
          "name": "stdout",
          "text": [
            "Found 1200 images belonging to 2 classes.\n",
            "Found 670 images belonging to 2 classes.\n"
          ]
        }
      ]
    },
    {
      "cell_type": "markdown",
      "metadata": {
        "id": "s3DeNWnrJcu2"
      },
      "source": [
        "**Entrenamiento**"
      ]
    },
    {
      "cell_type": "code",
      "metadata": {
        "colab": {
          "base_uri": "https://localhost:8080/"
        },
        "id": "ZOHU2MPiAMlP",
        "outputId": "44291b77-6516-47bb-f5a9-9d66f98151c5"
      },
      "source": [
        "#Training and validation stages\n",
        "history = model.fit(\n",
        "      train_generator,\n",
        "      steps_per_epoch=7, #70\n",
        "      epochs= 15,\n",
        "      validation_data=validation_generator,\n",
        "      validation_steps=60)"
      ],
      "execution_count": 84,
      "outputs": [
        {
          "output_type": "stream",
          "name": "stdout",
          "text": [
            "Epoch 1/15\n",
            "7/7 [==============================] - 11s 1s/step - loss: 1.5581 - acc: 0.4866 - val_loss: 0.7009 - val_acc: 0.0000e+00\n",
            "Epoch 2/15\n",
            "7/7 [==============================] - 10s 1s/step - loss: 0.6942 - acc: 0.4777 - val_loss: 0.7004 - val_acc: 0.0000e+00\n",
            "Epoch 3/15\n",
            "7/7 [==============================] - 10s 1s/step - loss: 0.6901 - acc: 0.5536 - val_loss: 0.6895 - val_acc: 0.8333\n",
            "Epoch 4/15\n",
            "7/7 [==============================] - 10s 1s/step - loss: 0.6832 - acc: 0.5848 - val_loss: 0.7205 - val_acc: 0.0000e+00\n",
            "Epoch 5/15\n",
            "7/7 [==============================] - 10s 1s/step - loss: 0.6938 - acc: 0.5402 - val_loss: 0.7098 - val_acc: 0.0000e+00\n",
            "Epoch 6/15\n",
            "7/7 [==============================] - 10s 1s/step - loss: 0.6753 - acc: 0.5938 - val_loss: 0.5510 - val_acc: 1.0000\n",
            "Epoch 7/15\n",
            "7/7 [==============================] - 10s 1s/step - loss: 0.6357 - acc: 0.6473 - val_loss: 0.4056 - val_acc: 1.0000\n",
            "Epoch 8/15\n",
            "7/7 [==============================] - 18s 3s/step - loss: 0.4983 - acc: 0.7740 - val_loss: 0.1683 - val_acc: 0.9333\n",
            "Epoch 9/15\n",
            "7/7 [==============================] - 9s 1s/step - loss: 0.5350 - acc: 0.7981 - val_loss: 0.4078 - val_acc: 0.9167\n",
            "Epoch 10/15\n",
            "7/7 [==============================] - 10s 1s/step - loss: 0.5274 - acc: 0.7634 - val_loss: 0.3122 - val_acc: 0.9333\n",
            "Epoch 11/15\n",
            "7/7 [==============================] - 9s 1s/step - loss: 0.5263 - acc: 0.7885 - val_loss: 0.3226 - val_acc: 0.9667\n",
            "Epoch 12/15\n",
            "7/7 [==============================] - 9s 1s/step - loss: 0.3916 - acc: 0.8558 - val_loss: 0.2390 - val_acc: 1.0000\n",
            "Epoch 13/15\n",
            "7/7 [==============================] - 9s 1s/step - loss: 0.3540 - acc: 0.8173 - val_loss: 0.3482 - val_acc: 0.8667\n",
            "Epoch 14/15\n",
            "7/7 [==============================] - 10s 1s/step - loss: 0.3885 - acc: 0.8616 - val_loss: 0.1611 - val_acc: 1.0000\n",
            "Epoch 15/15\n",
            "7/7 [==============================] - 10s 1s/step - loss: 0.3806 - acc: 0.8616 - val_loss: 0.2548 - val_acc: 0.9667\n"
          ]
        }
      ]
    },
    {
      "cell_type": "markdown",
      "metadata": {
        "id": "KKe4XMIKx2_N"
      },
      "source": [
        "**Grafica de la precisión y perdida durante el entrenamiento**"
      ]
    },
    {
      "cell_type": "code",
      "metadata": {
        "id": "hQ1bG_CoNrWb",
        "colab": {
          "base_uri": "https://localhost:8080/",
          "height": 580
        },
        "outputId": "efc8f1c4-a953-4f72-f3af-ed199f956ea9"
      },
      "source": [
        "import matplotlib.pyplot as plt\n",
        "\n",
        "acc = history.history['acc']\n",
        "val_acc = history.history['val_acc']\n",
        "max_val_acc = max(val_acc)\n",
        "max_val_acc_epoch= val_acc.index(max(val_acc)) + 1\n",
        "loss = history.history['loss']\n",
        "val_loss = history.history['val_loss']\n",
        "min_val_loss = min(val_loss)\n",
        "min_val_loss_epoch= val_loss.index(min(val_loss)) + 1\n",
        "\n",
        "epochs = range(len(acc))\n",
        "\n",
        "plt.plot(epochs, acc, 'go', label='Precisión en el entrenamiento')\n",
        "plt.plot(epochs, val_acc, 'r', label='Precisión en la validación')\n",
        "plt.plot(max_val_acc_epoch, max_val_acc, 'bo', label='Maximum accuracy')\n",
        "plt.title('Precisión durante el entrenamiento y la validación')\n",
        "plt.legend()\n",
        "print(\"Best accuracy epoch : % d, Value : % .5f\" %(max_val_acc_epoch, max_val_acc)) \n",
        "plt.figure()\n",
        "\n",
        "plt.plot(epochs, loss, 'go', label='Pérdida en el entrenamiento')\n",
        "plt.plot(epochs, val_loss, 'r', label='Pérdida en la validación')\n",
        "plt.plot(min_val_loss_epoch, min_val_loss, 'bo', label='Minimum loss')\n",
        "plt.title('Pérdida durante el entrenamiento y la validación')\n",
        "plt.legend()\n",
        "print(\"Best loss epoch : % d, Value : % .10f\" %(min_val_loss_epoch, min_val_loss))\n",
        "\n",
        "plt.show()"
      ],
      "execution_count": 85,
      "outputs": [
        {
          "output_type": "stream",
          "name": "stdout",
          "text": [
            "Best accuracy epoch :  6, Value :  1.00000\n",
            "Best loss epoch :  14, Value :  0.1611050963\n"
          ]
        },
        {
          "output_type": "display_data",
          "data": {
            "image/png": "[encoded data removed]",
            "text/plain": [
              "<Figure size 432x288 with 1 Axes>"
            ]
          },
          "metadata": {
            "needs_background": "light"
          }
        },
        {
          "output_type": "display_data",
          "data": {
            "image/png": "[encoded data removed]",
            "text/plain": [
              "<Figure size 432x288 with 1 Axes>"
            ]
          },
          "metadata": {
            "needs_background": "light"
          }
        }
      ]
    },
    {
      "cell_type": "markdown",
      "metadata": {
        "id": "Wh4Idq5xJmmy"
      },
      "source": [
        "**Guardamos el modelo**"
      ]
    },
    {
      "cell_type": "code",
      "metadata": {
        "id": "YIfcT_A2JGwV"
      },
      "source": [
        "model.save('/content/drive/MyDrive/modelos/modelo_Covid1.h5')"
      ],
      "execution_count": 86,
      "outputs": []
    },
    {
      "cell_type": "markdown",
      "metadata": {
        "id": "vdhuKBHOMsF8"
      },
      "source": [
        "**Cargamos el modelo**"
      ]
    },
    {
      "cell_type": "code",
      "metadata": {
        "id": "sKTh9xkKK1S7"
      },
      "source": [
        "import tensorflow\n",
        "modelp = tensorflow.keras.models.load_model('/content/drive/MyDrive/modelos/modelo_Covid1.h5', compile=False)"
      ],
      "execution_count": 87,
      "outputs": []
    },
    {
      "cell_type": "markdown",
      "metadata": {
        "id": "_DqBUEXjM2ie"
      },
      "source": [
        "**Matriz de confución**"
      ]
    },
    {
      "cell_type": "code",
      "metadata": {
        "id": "N8uuWaT7LXFO",
        "colab": {
          "base_uri": "https://localhost:8080/"
        },
        "outputId": "488b9ea2-4066-4fe6-ec52-4e1b1da887cb"
      },
      "source": [
        "from sklearn.metrics import confusion_matrix\n",
        "\n",
        "test_predictions = model.predict_generator(validation_generator, 679) # model.predict_generator(generador, num_lotes_por_epoca)"
      ],
      "execution_count": 92,
      "outputs": [
        {
          "output_type": "stream",
          "name": "stderr",
          "text": [
            "/usr/local/lib/python3.7/dist-packages/ipykernel_launcher.py:3: UserWarning: `Model.predict_generator` is deprecated and will be removed in a future version. Please use `Model.predict`, which supports generators.\n",
            "  This is separate from the ipykernel package so we can avoid doing imports until\n"
          ]
        },
        {
          "output_type": "stream",
          "name": "stdout",
          "text": [
            "WARNING:tensorflow:Your input ran out of data; interrupting training. Make sure that your dataset or generator can generate at least `steps_per_epoch * epochs` batches (in this case, 679 batches). You may need to use the repeat() function when building your dataset.\n"
          ]
        }
      ]
    },
    {
      "cell_type": "code",
      "metadata": {
        "id": "wDRMZ8ocL23u",
        "colab": {
          "base_uri": "https://localhost:8080/"
        },
        "outputId": "25c74797-d855-496c-be94-8afb5e894f8d"
      },
      "source": [
        "#Establecemos que aquellas predicciones con valores mayores a 0.5, sean categorizadas como Positivas (True),\n",
        "#y que las predicciones con valores menores a 0.5, sean clasificadas como Negativas (False)\n",
        "test_predictions = (test_predictions > 0.5)\n",
        "print(test_predictions)"
      ],
      "execution_count": 93,
      "outputs": [
        {
          "output_type": "stream",
          "name": "stdout",
          "text": [
            "[[False]\n",
            " [False]\n",
            " [False]\n",
            " [False]\n",
            " [False]\n",
            " [False]\n",
            " [False]\n",
            " [False]\n",
            " [False]\n",
            " [False]\n",
            " [False]\n",
            " [False]\n",
            " [False]\n",
            " [False]\n",
            " [False]\n",
            " [False]\n",
            " [False]\n",
            " [False]\n",
            " [False]\n",
            " [False]\n",
            " [False]\n",
            " [False]\n",
            " [False]\n",
            " [False]\n",
            " [False]\n",
            " [False]\n",
            " [False]\n",
            " [False]\n",
            " [False]\n",
            " [False]\n",
            " [False]\n",
            " [False]\n",
            " [False]\n",
            " [False]\n",
            " [False]\n",
            " [False]\n",
            " [False]\n",
            " [False]\n",
            " [False]\n",
            " [False]\n",
            " [False]\n",
            " [False]\n",
            " [False]\n",
            " [False]\n",
            " [False]\n",
            " [False]\n",
            " [False]\n",
            " [False]\n",
            " [False]\n",
            " [False]\n",
            " [ True]\n",
            " [False]\n",
            " [ True]\n",
            " [False]\n",
            " [False]\n",
            " [False]\n",
            " [False]\n",
            " [False]\n",
            " [False]\n",
            " [False]\n",
            " [False]\n",
            " [False]\n",
            " [False]\n",
            " [False]\n",
            " [False]\n",
            " [False]\n",
            " [False]\n",
            " [False]\n",
            " [False]\n",
            " [False]\n",
            " [ True]\n",
            " [False]\n",
            " [False]\n",
            " [False]\n",
            " [False]\n",
            " [False]\n",
            " [False]\n",
            " [False]\n",
            " [False]\n",
            " [False]\n",
            " [False]\n",
            " [False]\n",
            " [ True]\n",
            " [False]\n",
            " [False]\n",
            " [False]\n",
            " [False]\n",
            " [False]\n",
            " [False]\n",
            " [False]\n",
            " [False]\n",
            " [False]\n",
            " [False]\n",
            " [False]\n",
            " [ True]\n",
            " [False]\n",
            " [False]\n",
            " [False]\n",
            " [False]\n",
            " [False]\n",
            " [False]\n",
            " [False]\n",
            " [False]\n",
            " [False]\n",
            " [False]\n",
            " [False]\n",
            " [False]\n",
            " [False]\n",
            " [False]\n",
            " [False]\n",
            " [ True]\n",
            " [False]\n",
            " [False]\n",
            " [False]\n",
            " [False]\n",
            " [False]\n",
            " [False]\n",
            " [False]\n",
            " [False]\n",
            " [False]\n",
            " [False]\n",
            " [False]\n",
            " [ True]\n",
            " [False]\n",
            " [False]\n",
            " [False]\n",
            " [False]\n",
            " [False]\n",
            " [False]\n",
            " [False]\n",
            " [False]\n",
            " [False]\n",
            " [False]\n",
            " [False]\n",
            " [False]\n",
            " [False]\n",
            " [False]\n",
            " [ True]\n",
            " [False]\n",
            " [False]\n",
            " [False]\n",
            " [False]\n",
            " [False]\n",
            " [False]\n",
            " [False]\n",
            " [False]\n",
            " [False]\n",
            " [False]\n",
            " [False]\n",
            " [False]\n",
            " [ True]\n",
            " [False]\n",
            " [False]\n",
            " [False]\n",
            " [False]\n",
            " [ True]\n",
            " [False]\n",
            " [ True]\n",
            " [False]\n",
            " [False]\n",
            " [False]\n",
            " [False]\n",
            " [False]\n",
            " [ True]\n",
            " [False]\n",
            " [False]\n",
            " [False]\n",
            " [False]\n",
            " [False]\n",
            " [False]\n",
            " [False]\n",
            " [False]\n",
            " [False]\n",
            " [False]\n",
            " [False]\n",
            " [False]\n",
            " [False]\n",
            " [False]\n",
            " [False]\n",
            " [False]\n",
            " [False]\n",
            " [False]\n",
            " [False]\n",
            " [False]\n",
            " [False]\n",
            " [False]\n",
            " [False]\n",
            " [False]\n",
            " [False]\n",
            " [False]\n",
            " [False]\n",
            " [False]\n",
            " [False]\n",
            " [False]\n",
            " [False]\n",
            " [False]\n",
            " [False]\n",
            " [False]\n",
            " [False]\n",
            " [False]\n",
            " [False]\n",
            " [False]\n",
            " [False]\n",
            " [False]\n",
            " [False]\n",
            " [ True]\n",
            " [False]\n",
            " [False]\n",
            " [False]\n",
            " [False]\n",
            " [False]\n",
            " [False]\n",
            " [False]\n",
            " [False]\n",
            " [False]\n",
            " [False]\n",
            " [False]\n",
            " [False]\n",
            " [False]\n",
            " [False]\n",
            " [ True]\n",
            " [False]\n",
            " [ True]\n",
            " [ True]\n",
            " [False]\n",
            " [False]\n",
            " [False]\n",
            " [ True]\n",
            " [False]\n",
            " [False]\n",
            " [ True]\n",
            " [False]\n",
            " [False]\n",
            " [False]\n",
            " [False]\n",
            " [False]\n",
            " [False]\n",
            " [False]\n",
            " [False]\n",
            " [False]\n",
            " [ True]\n",
            " [False]\n",
            " [False]\n",
            " [False]\n",
            " [ True]\n",
            " [False]\n",
            " [False]\n",
            " [False]\n",
            " [False]\n",
            " [False]\n",
            " [False]\n",
            " [ True]\n",
            " [False]\n",
            " [False]\n",
            " [False]\n",
            " [ True]\n",
            " [False]\n",
            " [False]\n",
            " [False]\n",
            " [False]\n",
            " [False]\n",
            " [False]\n",
            " [False]\n",
            " [False]\n",
            " [False]\n",
            " [False]\n",
            " [False]\n",
            " [False]\n",
            " [False]\n",
            " [False]\n",
            " [ True]\n",
            " [False]\n",
            " [False]\n",
            " [False]\n",
            " [ True]\n",
            " [False]\n",
            " [False]\n",
            " [ True]\n",
            " [False]\n",
            " [False]\n",
            " [False]\n",
            " [False]\n",
            " [False]\n",
            " [ True]\n",
            " [False]\n",
            " [False]\n",
            " [False]\n",
            " [False]\n",
            " [False]\n",
            " [False]\n",
            " [False]\n",
            " [False]\n",
            " [False]\n",
            " [False]\n",
            " [False]\n",
            " [False]\n",
            " [False]\n",
            " [False]\n",
            " [False]\n",
            " [False]\n",
            " [False]\n",
            " [False]\n",
            " [False]\n",
            " [ True]\n",
            " [False]\n",
            " [False]\n",
            " [False]\n",
            " [False]\n",
            " [False]\n",
            " [False]\n",
            " [False]\n",
            " [False]\n",
            " [False]\n",
            " [False]\n",
            " [False]\n",
            " [False]\n",
            " [False]\n",
            " [False]\n",
            " [False]\n",
            " [False]\n",
            " [False]\n",
            " [False]\n",
            " [False]\n",
            " [False]\n",
            " [False]\n",
            " [False]\n",
            " [False]\n",
            " [False]\n",
            " [False]\n",
            " [False]\n",
            " [ True]\n",
            " [ True]\n",
            " [ True]\n",
            " [ True]\n",
            " [ True]\n",
            " [ True]\n",
            " [ True]\n",
            " [ True]\n",
            " [ True]\n",
            " [ True]\n",
            " [ True]\n",
            " [ True]\n",
            " [ True]\n",
            " [ True]\n",
            " [ True]\n",
            " [ True]\n",
            " [ True]\n",
            " [ True]\n",
            " [ True]\n",
            " [ True]\n",
            " [ True]\n",
            " [ True]\n",
            " [ True]\n",
            " [ True]\n",
            " [ True]\n",
            " [ True]\n",
            " [ True]\n",
            " [ True]\n",
            " [ True]\n",
            " [ True]\n",
            " [ True]\n",
            " [ True]\n",
            " [ True]\n",
            " [ True]\n",
            " [ True]\n",
            " [ True]\n",
            " [ True]\n",
            " [ True]\n",
            " [ True]\n",
            " [ True]\n",
            " [ True]\n",
            " [ True]\n",
            " [ True]\n",
            " [ True]\n",
            " [ True]\n",
            " [ True]\n",
            " [ True]\n",
            " [ True]\n",
            " [ True]\n",
            " [ True]\n",
            " [ True]\n",
            " [ True]\n",
            " [ True]\n",
            " [ True]\n",
            " [ True]\n",
            " [ True]\n",
            " [ True]\n",
            " [ True]\n",
            " [ True]\n",
            " [ True]\n",
            " [ True]\n",
            " [ True]\n",
            " [ True]\n",
            " [ True]\n",
            " [ True]\n",
            " [ True]\n",
            " [ True]\n",
            " [ True]\n",
            " [ True]\n",
            " [ True]\n",
            " [ True]\n",
            " [ True]\n",
            " [ True]\n",
            " [ True]\n",
            " [ True]\n",
            " [ True]\n",
            " [ True]\n",
            " [ True]\n",
            " [ True]\n",
            " [ True]\n",
            " [ True]\n",
            " [ True]\n",
            " [ True]\n",
            " [ True]\n",
            " [ True]\n",
            " [ True]\n",
            " [ True]\n",
            " [ True]\n",
            " [ True]\n",
            " [ True]\n",
            " [ True]\n",
            " [ True]\n",
            " [ True]\n",
            " [ True]\n",
            " [ True]\n",
            " [ True]\n",
            " [ True]\n",
            " [ True]\n",
            " [ True]\n",
            " [ True]\n",
            " [ True]\n",
            " [ True]\n",
            " [ True]\n",
            " [ True]\n",
            " [ True]\n",
            " [ True]\n",
            " [ True]\n",
            " [ True]\n",
            " [ True]\n",
            " [ True]\n",
            " [ True]\n",
            " [ True]\n",
            " [ True]\n",
            " [ True]\n",
            " [ True]\n",
            " [ True]\n",
            " [ True]\n",
            " [ True]\n",
            " [ True]\n",
            " [ True]\n",
            " [ True]\n",
            " [ True]\n",
            " [ True]\n",
            " [ True]\n",
            " [ True]\n",
            " [ True]\n",
            " [ True]\n",
            " [ True]\n",
            " [ True]\n",
            " [ True]\n",
            " [ True]\n",
            " [ True]\n",
            " [ True]\n",
            " [ True]\n",
            " [ True]\n",
            " [ True]\n",
            " [ True]\n",
            " [ True]\n",
            " [ True]\n",
            " [ True]\n",
            " [ True]\n",
            " [ True]\n",
            " [ True]\n",
            " [ True]\n",
            " [ True]\n",
            " [ True]\n",
            " [ True]\n",
            " [ True]\n",
            " [ True]\n",
            " [ True]\n",
            " [ True]\n",
            " [ True]\n",
            " [ True]\n",
            " [ True]\n",
            " [ True]\n",
            " [ True]\n",
            " [ True]\n",
            " [ True]\n",
            " [ True]\n",
            " [ True]\n",
            " [ True]\n",
            " [ True]\n",
            " [ True]\n",
            " [ True]\n",
            " [ True]\n",
            " [ True]\n",
            " [ True]\n",
            " [ True]\n",
            " [ True]\n",
            " [ True]\n",
            " [ True]\n",
            " [ True]\n",
            " [ True]\n",
            " [ True]\n",
            " [ True]\n",
            " [ True]\n",
            " [ True]\n",
            " [ True]\n",
            " [ True]\n",
            " [ True]\n",
            " [ True]\n",
            " [ True]\n",
            " [ True]\n",
            " [ True]\n",
            " [ True]\n",
            " [ True]\n",
            " [ True]\n",
            " [ True]\n",
            " [ True]\n",
            " [ True]\n",
            " [ True]\n",
            " [ True]\n",
            " [ True]\n",
            " [ True]\n",
            " [ True]\n",
            " [ True]\n",
            " [ True]\n",
            " [ True]\n",
            " [ True]\n",
            " [ True]\n",
            " [ True]\n",
            " [ True]\n",
            " [ True]\n",
            " [ True]\n",
            " [ True]\n",
            " [ True]\n",
            " [ True]\n",
            " [ True]\n",
            " [ True]\n",
            " [ True]\n",
            " [ True]\n",
            " [ True]\n",
            " [ True]\n",
            " [ True]\n",
            " [ True]\n",
            " [ True]\n",
            " [ True]\n",
            " [ True]\n",
            " [ True]\n",
            " [ True]\n",
            " [ True]\n",
            " [ True]\n",
            " [ True]\n",
            " [ True]\n",
            " [ True]\n",
            " [ True]\n",
            " [ True]\n",
            " [ True]\n",
            " [ True]\n",
            " [ True]\n",
            " [ True]\n",
            " [ True]\n",
            " [ True]\n",
            " [ True]\n",
            " [ True]\n",
            " [ True]\n",
            " [ True]\n",
            " [ True]\n",
            " [ True]\n",
            " [ True]\n",
            " [ True]\n",
            " [ True]\n",
            " [ True]\n",
            " [ True]\n",
            " [ True]\n",
            " [ True]\n",
            " [ True]\n",
            " [ True]\n",
            " [ True]\n",
            " [ True]\n",
            " [ True]\n",
            " [ True]\n",
            " [ True]\n",
            " [ True]\n",
            " [ True]\n",
            " [ True]\n",
            " [ True]\n",
            " [ True]\n",
            " [ True]\n",
            " [ True]\n",
            " [ True]\n",
            " [ True]\n",
            " [ True]\n",
            " [ True]\n",
            " [ True]\n",
            " [ True]\n",
            " [ True]\n",
            " [ True]\n",
            " [ True]\n",
            " [ True]\n",
            " [ True]\n",
            " [ True]\n",
            " [ True]\n",
            " [ True]\n",
            " [ True]\n",
            " [ True]\n",
            " [ True]\n",
            " [ True]\n",
            " [ True]\n",
            " [ True]\n",
            " [ True]\n",
            " [ True]\n",
            " [ True]\n",
            " [ True]\n",
            " [ True]\n",
            " [ True]\n",
            " [ True]\n",
            " [ True]\n",
            " [ True]\n",
            " [ True]\n",
            " [ True]\n",
            " [ True]\n",
            " [ True]\n",
            " [ True]\n",
            " [ True]\n",
            " [ True]\n",
            " [ True]\n",
            " [ True]\n",
            " [ True]\n",
            " [ True]\n",
            " [ True]\n",
            " [ True]\n",
            " [ True]\n",
            " [ True]\n",
            " [ True]\n",
            " [ True]\n",
            " [ True]\n",
            " [ True]\n",
            " [ True]\n",
            " [ True]\n",
            " [ True]\n",
            " [ True]\n",
            " [ True]\n",
            " [ True]\n",
            " [ True]\n",
            " [ True]\n",
            " [ True]\n",
            " [ True]\n",
            " [ True]\n",
            " [ True]\n",
            " [ True]\n",
            " [ True]\n",
            " [ True]\n",
            " [ True]\n",
            " [ True]\n",
            " [ True]\n",
            " [ True]\n",
            " [ True]\n",
            " [ True]\n",
            " [ True]\n",
            " [ True]\n",
            " [ True]\n",
            " [ True]\n",
            " [ True]\n",
            " [ True]\n",
            " [ True]\n",
            " [ True]\n",
            " [ True]\n",
            " [ True]\n",
            " [ True]]\n"
          ]
        }
      ]
    },
    {
      "cell_type": "code",
      "metadata": {
        "id": "6mlRt0nLL828",
        "colab": {
          "base_uri": "https://localhost:8080/"
        },
        "outputId": "c5be941b-5e97-4f7b-9552-fe24b101c541"
      },
      "source": [
        "#Etiquetas o valores esperados\n",
        "validation_generator.classes"
      ],
      "execution_count": 94,
      "outputs": [
        {
          "output_type": "execute_result",
          "data": {
            "text/plain": [
              "array([0, 0, 0, 0, 0, 0, 0, 0, 0, 0, 0, 0, 0, 0, 0, 0, 0, 0, 0, 0, 0, 0,\n",
              "       0, 0, 0, 0, 0, 0, 0, 0, 0, 0, 0, 0, 0, 0, 0, 0, 0, 0, 0, 0, 0, 0,\n",
              "       0, 0, 0, 0, 0, 0, 0, 0, 0, 0, 0, 0, 0, 0, 0, 0, 0, 0, 0, 0, 0, 0,\n",
              "       0, 0, 0, 0, 0, 0, 0, 0, 0, 0, 0, 0, 0, 0, 0, 0, 0, 0, 0, 0, 0, 0,\n",
              "       0, 0, 0, 0, 0, 0, 0, 0, 0, 0, 0, 0, 0, 0, 0, 0, 0, 0, 0, 0, 0, 0,\n",
              "       0, 0, 0, 0, 0, 0, 0, 0, 0, 0, 0, 0, 0, 0, 0, 0, 0, 0, 0, 0, 0, 0,\n",
              "       0, 0, 0, 0, 0, 0, 0, 0, 0, 0, 0, 0, 0, 0, 0, 0, 0, 0, 0, 0, 0, 0,\n",
              "       0, 0, 0, 0, 0, 0, 0, 0, 0, 0, 0, 0, 0, 0, 0, 0, 0, 0, 0, 0, 0, 0,\n",
              "       0, 0, 0, 0, 0, 0, 0, 0, 0, 0, 0, 0, 0, 0, 0, 0, 0, 0, 0, 0, 0, 0,\n",
              "       0, 0, 0, 0, 0, 0, 0, 0, 0, 0, 0, 0, 0, 0, 0, 0, 0, 0, 0, 0, 0, 0,\n",
              "       0, 0, 0, 0, 0, 0, 0, 0, 0, 0, 0, 0, 0, 0, 0, 0, 0, 0, 0, 0, 0, 0,\n",
              "       0, 0, 0, 0, 0, 0, 0, 0, 0, 0, 0, 0, 0, 0, 0, 0, 0, 0, 0, 0, 0, 0,\n",
              "       0, 0, 0, 0, 0, 0, 0, 0, 0, 0, 0, 0, 0, 0, 0, 0, 0, 0, 0, 0, 0, 0,\n",
              "       0, 0, 0, 0, 0, 0, 0, 0, 0, 0, 0, 0, 0, 0, 0, 0, 0, 0, 0, 0, 0, 0,\n",
              "       0, 0, 0, 0, 0, 0, 0, 0, 0, 0, 0, 0, 0, 0, 0, 0, 0, 0, 0, 0, 0, 0,\n",
              "       1, 1, 1, 1, 1, 1, 1, 1, 1, 1, 1, 1, 1, 1, 1, 1, 1, 1, 1, 1, 1, 1,\n",
              "       1, 1, 1, 1, 1, 1, 1, 1, 1, 1, 1, 1, 1, 1, 1, 1, 1, 1, 1, 1, 1, 1,\n",
              "       1, 1, 1, 1, 1, 1, 1, 1, 1, 1, 1, 1, 1, 1, 1, 1, 1, 1, 1, 1, 1, 1,\n",
              "       1, 1, 1, 1, 1, 1, 1, 1, 1, 1, 1, 1, 1, 1, 1, 1, 1, 1, 1, 1, 1, 1,\n",
              "       1, 1, 1, 1, 1, 1, 1, 1, 1, 1, 1, 1, 1, 1, 1, 1, 1, 1, 1, 1, 1, 1,\n",
              "       1, 1, 1, 1, 1, 1, 1, 1, 1, 1, 1, 1, 1, 1, 1, 1, 1, 1, 1, 1, 1, 1,\n",
              "       1, 1, 1, 1, 1, 1, 1, 1, 1, 1, 1, 1, 1, 1, 1, 1, 1, 1, 1, 1, 1, 1,\n",
              "       1, 1, 1, 1, 1, 1, 1, 1, 1, 1, 1, 1, 1, 1, 1, 1, 1, 1, 1, 1, 1, 1,\n",
              "       1, 1, 1, 1, 1, 1, 1, 1, 1, 1, 1, 1, 1, 1, 1, 1, 1, 1, 1, 1, 1, 1,\n",
              "       1, 1, 1, 1, 1, 1, 1, 1, 1, 1, 1, 1, 1, 1, 1, 1, 1, 1, 1, 1, 1, 1,\n",
              "       1, 1, 1, 1, 1, 1, 1, 1, 1, 1, 1, 1, 1, 1, 1, 1, 1, 1, 1, 1, 1, 1,\n",
              "       1, 1, 1, 1, 1, 1, 1, 1, 1, 1, 1, 1, 1, 1, 1, 1, 1, 1, 1, 1, 1, 1,\n",
              "       1, 1, 1, 1, 1, 1, 1, 1, 1, 1, 1, 1, 1, 1, 1, 1, 1, 1, 1, 1, 1, 1,\n",
              "       1, 1, 1, 1, 1, 1, 1, 1, 1, 1, 1, 1, 1, 1, 1, 1, 1, 1, 1, 1, 1, 1,\n",
              "       1, 1, 1, 1, 1, 1, 1, 1, 1, 1, 1, 1, 1, 1, 1, 1, 1, 1, 1, 1, 1, 1,\n",
              "       1, 1, 1, 1, 1, 1, 1, 1, 1, 1], dtype=int32)"
            ]
          },
          "metadata": {},
          "execution_count": 94
        }
      ]
    },
    {
      "cell_type": "code",
      "metadata": {
        "id": "SWE5weQ2MLoK",
        "colab": {
          "base_uri": "https://localhost:8080/"
        },
        "outputId": "24527d15-596b-4c18-d765-50dcec7cc6d5"
      },
      "source": [
        "from sklearn.metrics import confusion_matrix\n",
        "\n",
        "cm = confusion_matrix(validation_generator.classes, test_predictions)\n",
        "print('Confusion Matrix')\n",
        "print(cm)"
      ],
      "execution_count": 95,
      "outputs": [
        {
          "output_type": "stream",
          "name": "stdout",
          "text": [
            "Confusion Matrix\n",
            "[[303  27]\n",
            " [  0 340]]\n"
          ]
        }
      ]
    },
    {
      "cell_type": "code",
      "metadata": {
        "id": "fcfPR5PnMQDL",
        "colab": {
          "base_uri": "https://localhost:8080/",
          "height": 370
        },
        "outputId": "e7d9c8d2-a71d-48fd-8b8f-5d52b3b1da7f"
      },
      "source": [
        "import matplotlib.pyplot as plt\n",
        "import seaborn as sns\n",
        "\n",
        "fig, ax = plt.subplots(figsize=(5, 5))\n",
        "ax.matshow(cm, cmap=plt.cm.cividis_r, alpha=0.5)\n",
        "for i in range(cm.shape[0]):\n",
        "    for j in range(cm.shape[1]):\n",
        "        ax.text(x=j, y=i, s=cm[i, j], va='center', ha='center')\n",
        "\n",
        "plt.title(\"Matriz de confusión\", fontsize=15)\n",
        "plt.xlabel('Predicciones')\n",
        "plt.ylabel('Valores verdaderos o etiquetas')\n",
        "\n",
        "plt.tight_layout()\n",
        "plt.show()"
      ],
      "execution_count": 96,
      "outputs": [
        {
          "output_type": "display_data",
          "data": {
            "image/png": "[encoded data removed]",
            "text/plain": [
              "<Figure size 360x360 with 1 Axes>"
            ]
          },
          "metadata": {
            "needs_background": "light"
          }
        }
      ]
    },
    {
      "cell_type": "markdown",
      "metadata": {
        "id": "Nqd9ADOiNBwY"
      },
      "source": [
        "**Calculamos la metrica**"
      ]
    },
    {
      "cell_type": "code",
      "metadata": {
        "id": "8d9QrIF9MUpI",
        "colab": {
          "base_uri": "https://localhost:8080/"
        },
        "outputId": "43231514-dbed-4db6-c9df-b5a8ed0199bd"
      },
      "source": [
        "from sklearn.metrics import precision_score\n",
        "from sklearn.metrics import recall_score, f1_score\n",
        "\n",
        "print('Precision: %.7f' % precision_score(y_true=validation_generator.classes, y_pred=test_predictions))\n",
        "print('Recall: %.7f' % recall_score(y_true=validation_generator.classes, y_pred=test_predictions))\n",
        "print('F1: %.7f' % f1_score(y_true=validation_generator.classes, y_pred=test_predictions))"
      ],
      "execution_count": 97,
      "outputs": [
        {
          "output_type": "stream",
          "name": "stdout",
          "text": [
            "Precision: 0.9264305\n",
            "Recall: 1.0000000\n",
            "F1: 0.9618105\n"
          ]
        }
      ]
    },
    {
      "cell_type": "markdown",
      "metadata": {
        "id": "6Kw_7bdvF1nK"
      },
      "source": [
        "**Se ve cuantas imagenes estan en validacion y la clasificacion que en este modelo solo se optienen dos que es con covid y sin covid** "
      ]
    },
    {
      "cell_type": "code",
      "metadata": {
        "colab": {
          "base_uri": "https://localhost:8080/"
        },
        "id": "ZsNes86Os7W0",
        "outputId": "8cd0f60b-83ef-4f36-93cb-96c90f6d3d8a"
      },
      "source": [
        "#Test stage\n",
        "test_generator = test_datagen.flow_from_directory(\n",
        "        validation_dir,\n",
        "        target_size=(72, 96),\n",
        "        batch_size=1,\n",
        "        color_mode='rgb',\n",
        "        class_mode='categorical')"
      ],
      "execution_count": 105,
      "outputs": [
        {
          "output_type": "stream",
          "name": "stdout",
          "text": [
            "Found 670 images belonging to 2 classes.\n"
          ]
        }
      ]
    },
    {
      "cell_type": "markdown",
      "metadata": {
        "id": "cypDLz57GG2G"
      },
      "source": [
        "**cargamos la imagen y la damos tratamiento para que entre como el modelo espera de 224*224**"
      ]
    },
    {
      "cell_type": "code",
      "metadata": {
        "colab": {
          "base_uri": "https://localhost:8080/"
        },
        "id": "2Sx2W6ZBmzFb",
        "outputId": "025ab706-5650-4a42-9df7-a2fc4d031644"
      },
      "source": [
        "#Ruta de alguna imagen que pertenezca al conjunto de validación\n",
        "img_path = './dataset/validate/covid/COVID-301.png'\n",
        "# img_path = './dataset/validate/normal/Normal-301.png'\n",
        "# Preprocesamos la imagen en un tensor 4D\n",
        "from keras.preprocessing import image\n",
        "import numpy as np\n",
        "\n",
        "img = image.load_img(img_path, target_size=(224, 224))\n",
        "img_tensor = image.img_to_array(img)\n",
        "img_tensor = np.expand_dims(img_tensor, axis=0)\n",
        "\n",
        "#Recuerda que el modelo fue entrenado con imágenes\n",
        "#de entrada que se preprocesaron de la siguiente manera:\n",
        "img_tensor /= 255.\n",
        "\n",
        "# Su dimensión es de (1, 224, 224, 3)\n",
        "print(img_tensor.shape)"
      ],
      "execution_count": 106,
      "outputs": [
        {
          "output_type": "stream",
          "name": "stdout",
          "text": [
            "(1, 224, 224, 3)\n"
          ]
        }
      ]
    },
    {
      "cell_type": "markdown",
      "metadata": {
        "id": "YF-2BiCyGjD-"
      },
      "source": [
        "**Cargamos la imagen al modelo, con dimenciones de 224 * 224**"
      ]
    },
    {
      "cell_type": "code",
      "metadata": {
        "colab": {
          "base_uri": "https://localhost:8080/"
        },
        "id": "J7TM0blWwpkJ",
        "outputId": "7a967bb6-fb39-4feb-b79c-e1007f2f4122"
      },
      "source": [
        "predic = model.predict_generator(img_tensor) "
      ],
      "execution_count": 107,
      "outputs": [
        {
          "output_type": "stream",
          "name": "stderr",
          "text": [
            "/usr/local/lib/python3.7/dist-packages/ipykernel_launcher.py:1: UserWarning: `Model.predict_generator` is deprecated and will be removed in a future version. Please use `Model.predict`, which supports generators.\n",
            "  \"\"\"Entry point for launching an IPython kernel.\n"
          ]
        }
      ]
    },
    {
      "cell_type": "markdown",
      "metadata": {
        "id": "Kobs6FydGrh1"
      },
      "source": [
        "**Se ve cuanto es el valor ya pasado por el modelo**"
      ]
    },
    {
      "cell_type": "code",
      "metadata": {
        "colab": {
          "base_uri": "https://localhost:8080/"
        },
        "id": "2atrbSrwwunX",
        "outputId": "fd08cc71-5d13-44a5-8cb5-2797e28f9a36"
      },
      "source": [
        "predic"
      ],
      "execution_count": 108,
      "outputs": [
        {
          "output_type": "execute_result",
          "data": {
            "text/plain": [
              "array([[0.24852413]], dtype=float32)"
            ]
          },
          "metadata": {},
          "execution_count": 108
        }
      ]
    },
    {
      "cell_type": "markdown",
      "metadata": {
        "id": "GNgZjJitG1Qw"
      },
      "source": [
        "**Se espesifica que arriba del 0.5 de el resultado True y abajo del 0.5 de false**\n",
        "\n",
        "* True=  Sano\n",
        "* false= Tiene covid "
      ]
    },
    {
      "cell_type": "code",
      "metadata": {
        "colab": {
          "base_uri": "https://localhost:8080/",
          "height": 304
        },
        "id": "WzpzX4V7wyV_",
        "outputId": "125ee1ac-0a33-4427-f1fc-18c56e13615a"
      },
      "source": [
        "predic = (predic > 0.5)\n",
        "print(predic)\n",
        "\n",
        "if predic == False:\n",
        "  print('Tiene covid, necesita atención médica lo mas pronto posible, por favor')\n",
        "  plt.imshow(img_tensor[0])\n",
        "  plt.show()\n",
        "else:\n",
        "  print('Esta sano, no presenta ningun indicio de covid')\n",
        "  plt.imshow(img_tensor[0])\n",
        "  plt.show()"
      ],
      "execution_count": 109,
      "outputs": [
        {
          "output_type": "stream",
          "name": "stdout",
          "text": [
            "[[False]]\n",
            "Tiene covid, necesita atención médica lo mas pronto posible, por favor\n"
          ]
        },
        {
          "output_type": "display_data",
          "data": {
            "image/png": "[encoded data removed]",
            "text/plain": [
              "<Figure size 432x288 with 1 Axes>"
            ]
          },
          "metadata": {
            "needs_background": "light"
          }
        }
      ]
    }
  ]
}